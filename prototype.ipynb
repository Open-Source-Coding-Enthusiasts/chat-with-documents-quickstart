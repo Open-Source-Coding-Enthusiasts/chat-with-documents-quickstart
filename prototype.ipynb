{
 "cells": [
  {
   "cell_type": "code",
   "execution_count": 1,
   "metadata": {},
   "outputs": [],
   "source": [
    "import os\n",
    "from dotenv import load_dotenv\n",
    "load_dotenv()\n",
    "\n",
    "import openai \n",
    "openai.api_key = os.getenv(\"OPENAI_API_KEY\")"
   ]
  },
  {
   "cell_type": "code",
   "execution_count": 2,
   "metadata": {},
   "outputs": [],
   "source": [
    "from llama_index.llms import OpenAI\n",
    "from llama_index import VectorStoreIndex, SimpleDirectoryReader\n",
    "\n"
   ]
  },
  {
   "cell_type": "markdown",
   "metadata": {},
   "source": [
    "### Load any text data"
   ]
  },
  {
   "cell_type": "code",
   "execution_count": 3,
   "metadata": {},
   "outputs": [],
   "source": [
    "docs = SimpleDirectoryReader(\"samples/\").load_data()"
   ]
  },
  {
   "cell_type": "markdown",
   "metadata": {},
   "source": [
    "### Create embeddings"
   ]
  },
  {
   "cell_type": "code",
   "execution_count": 4,
   "metadata": {},
   "outputs": [
    {
     "name": "stderr",
     "output_type": "stream",
     "text": [
      "d:\\Anaconda\\envs\\llm\\lib\\site-packages\\tqdm\\auto.py:21: TqdmWarning: IProgress not found. Please update jupyter and ipywidgets. See https://ipywidgets.readthedocs.io/en/stable/user_install.html\n",
      "  from .autonotebook import tqdm as notebook_tqdm\n",
      "Parsing documents into nodes: 100%|██████████| 10/10 [00:00<00:00, 416.47it/s]\n",
      "Generating embeddings: 100%|██████████| 17/17 [00:03<00:00,  4.45it/s]\n"
     ]
    }
   ],
   "source": [
    "index = VectorStoreIndex.from_documents(docs,show_progress=True)"
   ]
  },
  {
   "cell_type": "markdown",
   "metadata": {},
   "source": [
    "### Query the document"
   ]
  },
  {
   "cell_type": "code",
   "execution_count": 13,
   "metadata": {},
   "outputs": [
    {
     "name": "stdout",
     "output_type": "stream",
     "text": [
      "Ten dokument jest analizą obowiązków związanych z dokumentacją cen transferowych dla spółki. Analiza została przeprowadzona przez firmę KPMG, która grupowała transakcje przedstawione przez Zleceniodawcę jako transakcje jednorodne. Dokument zawiera prośbę o weryfikację i potwierdzenie prawidłowości grupowania transakcji oraz informuje o możliwości kontaktu w razie jakichkolwiek wątpliwości.\n"
     ]
    }
   ],
   "source": [
    "query_engine = index.as_query_engine()\n",
    "resp = query_engine.query(\"O czym jest ten dokument, opisz go w kilku zdaniach.\")\n",
    "print(resp)"
   ]
  },
  {
   "cell_type": "markdown",
   "metadata": {},
   "source": [
    "### Save embeddings locally"
   ]
  },
  {
   "cell_type": "code",
   "execution_count": 11,
   "metadata": {},
   "outputs": [],
   "source": [
    "index.storage_context.persist()"
   ]
  },
  {
   "cell_type": "markdown",
   "metadata": {},
   "source": [
    "### Create index from stored embeddings"
   ]
  },
  {
   "cell_type": "code",
   "execution_count": 16,
   "metadata": {},
   "outputs": [],
   "source": [
    "from llama_index import StorageContext,load_index_from_storage\n",
    "\n",
    "storeage_context = StorageContext.from_defaults(persist_dir=\"storage/\")\n",
    "index = load_index_from_storage(storeage_context)"
   ]
  },
  {
   "cell_type": "markdown",
   "metadata": {},
   "source": [
    "### Change default models"
   ]
  },
  {
   "cell_type": "code",
   "execution_count": 20,
   "metadata": {},
   "outputs": [],
   "source": [
    "from llama_index import ServiceContext, set_global_service_context"
   ]
  },
  {
   "cell_type": "code",
   "execution_count": 21,
   "metadata": {},
   "outputs": [],
   "source": [
    "llm = OpenAI(model=\"gpt-3.5-turbo\",temperature=0,max_tokens=100)\n",
    "\n",
    "serv_context = ServiceContext.from_defaults(llm=llm)\n",
    "\n",
    "index = load_index_from_storage(storeage_context,service_context=serv_context)"
   ]
  },
  {
   "cell_type": "code",
   "execution_count": 22,
   "metadata": {},
   "outputs": [
    {
     "data": {
      "text/plain": [
       "Response(response='Ten dokument jest analizą obowiązków związanych z dokumentacją cen transferowych. Zawiera informacje dotyczące korzystania z ulgi B+R oraz grupowania transakcji jako transakcji jednorodnych. Dokument został przygotowany przez firmę KPMG i prosi o weryfikację i potwierdzenie prawidłowości grupowania transakcji.', source_nodes=[NodeWithScore(node=TextNode(id_='f6d4fdcb-a70b-4985-a7fa-cb62155c432d', embedding=None, metadata={'page_label': '5', 'file_name': 'TC_Interstal_Analiza obowiązków TP_memorandum_20221230.pdf', 'file_path': 'samples\\\\TC_Interstal_Analiza obowiązków TP_memorandum_20221230.pdf', 'creation_date': '2023-10-31', 'last_modified_date': '2023-10-31', 'last_accessed_date': '2023-10-31'}, excluded_embed_metadata_keys=['creation_date', 'last_modified_date', 'last_accessed_date'], excluded_llm_metadata_keys=['creation_date', 'last_modified_date', 'last_accessed_date'], relationships={<NodeRelationship.SOURCE: '1'>: RelatedNodeInfo(node_id='7449eaf5-1922-404b-b882-07801cead6ca', node_type=<ObjectType.DOCUMENT: '4'>, metadata={'page_label': '5', 'file_name': 'TC_Interstal_Analiza obowiązków TP_memorandum_20221230.pdf', 'file_path': 'samples\\\\TC_Interstal_Analiza obowiązków TP_memorandum_20221230.pdf', 'creation_date': '2023-10-31', 'last_modified_date': '2023-10-31', 'last_accessed_date': '2023-10-31'}, hash='69d3a6191f38bfee0dc42290afc7b644362ff0f1615fd6a8d429a650660ae70b'), <NodeRelationship.PREVIOUS: '2'>: RelatedNodeInfo(node_id='11c4a28c-51d3-46b8-acbe-cc87ea3e8387', node_type=<ObjectType.TEXT: '1'>, metadata={'page_label': '5', 'file_name': 'TC_Interstal_Analiza obowiązków TP_memorandum_20221230.pdf', 'file_path': 'samples\\\\TC_Interstal_Analiza obowiązków TP_memorandum_20221230.pdf', 'creation_date': '2023-10-31', 'last_modified_date': '2023-10-31', 'last_accessed_date': '2023-10-31'}, hash='c9e3dc0c8d1b03c3ae22a21113573c929ec16f205eff494b87a99a29f1609b18')}, hash='536fa2db4969ac1b09e654f515f25a098bd1dc1a1d091ee0f74438a9b49941d9', text='ust. 1 pkt. 34 a Ustawy  CIT. \\n• Spółka nie korzystała z odliczenia od podstawy opodatkowania kosztów kwalifikowanych w ramach ulgi B+R.  \\n \\nAnaliza w zakresie wystąpienia obowiązku dokumentacyjnego  \\nKPMG dokonało grupowania przedstawionych pr zez Zleceniodawcę  transakcji jako transakcji jednorodnych mając na uwadze przedstawion e informacje oraz \\nprzygotowywane w poprzednich latach podatkowych dokumentacje cen transferowych . Prosimy o weryfikację oraz potwierdzenie prawidłowości \\ndokonanego grupow ania mając na uwadze posiadany pełny zakres informacji w zakresie przeprowadzanych transakcji.', start_char_idx=None, end_char_idx=None, text_template='{metadata_str}\\n\\n{content}', metadata_template='{key}: {value}', metadata_seperator='\\n'), score=0.8120656748665102), NodeWithScore(node=TextNode(id_='a301763f-b7af-47a0-85aa-6c13c37c96f1', embedding=None, metadata={'page_label': '10', 'file_name': 'TC_Interstal_Analiza obowiązków TP_memorandum_20221230.pdf', 'file_path': 'samples\\\\TC_Interstal_Analiza obowiązków TP_memorandum_20221230.pdf', 'creation_date': '2023-10-31', 'last_modified_date': '2023-10-31', 'last_accessed_date': '2023-10-31'}, excluded_embed_metadata_keys=['creation_date', 'last_modified_date', 'last_accessed_date'], excluded_llm_metadata_keys=['creation_date', 'last_modified_date', 'last_accessed_date'], relationships={<NodeRelationship.SOURCE: '1'>: RelatedNodeInfo(node_id='f3cb7d41-8829-4999-a66e-eb92b9a1fcc9', node_type=<ObjectType.DOCUMENT: '4'>, metadata={'page_label': '10', 'file_name': 'TC_Interstal_Analiza obowiązków TP_memorandum_20221230.pdf', 'file_path': 'samples\\\\TC_Interstal_Analiza obowiązków TP_memorandum_20221230.pdf', 'creation_date': '2023-10-31', 'last_modified_date': '2023-10-31', 'last_accessed_date': '2023-10-31'}, hash='7afb19fcaafa9fd66ed7370409d015bc62ec5a6989562567883a668ad43fce5a'), <NodeRelationship.PREVIOUS: '2'>: RelatedNodeInfo(node_id='a65616c5-0d68-49b4-9a14-202ea16ba71f', node_type=<ObjectType.TEXT: '1'>, metadata={'page_label': '10', 'file_name': 'TC_Interstal_Analiza obowiązków TP_memorandum_20221230.pdf', 'file_path': 'samples\\\\TC_Interstal_Analiza obowiązków TP_memorandum_20221230.pdf', 'creation_date': '2023-10-31', 'last_modified_date': '2023-10-31', 'last_accessed_date': '2023-10-31'}, hash='16ec9c29db1319b02911db8c2204ca68625c55f4a636583f6d6a0ad9131da377')}, hash='488725d0887c035d0d0dd5574dea3bbdacdad0493e7792db1db00d41a6700caf', text='W razie jakichkolwiek wątpliwości , prosimy o kontakt.  \\n \\n \\nZ poważaniem,  \\n \\nMirosław Michna       Mariusz Szkaradek   \\nPartner, Tax        Senior  Manager, Tax  \\n \\n1 Por. Odpowiedź na interpelację poselską nr 23727 z dnia 27 lipca 2021 r. w sprawie przepisów o cenach transferowych .', start_char_idx=None, end_char_idx=None, text_template='{metadata_str}\\n\\n{content}', metadata_template='{key}: {value}', metadata_seperator='\\n'), score=0.8097531934608058)], metadata={'f6d4fdcb-a70b-4985-a7fa-cb62155c432d': {'page_label': '5', 'file_name': 'TC_Interstal_Analiza obowiązków TP_memorandum_20221230.pdf', 'file_path': 'samples\\\\TC_Interstal_Analiza obowiązków TP_memorandum_20221230.pdf', 'creation_date': '2023-10-31', 'last_modified_date': '2023-10-31', 'last_accessed_date': '2023-10-31'}, 'a301763f-b7af-47a0-85aa-6c13c37c96f1': {'page_label': '10', 'file_name': 'TC_Interstal_Analiza obowiązków TP_memorandum_20221230.pdf', 'file_path': 'samples\\\\TC_Interstal_Analiza obowiązków TP_memorandum_20221230.pdf', 'creation_date': '2023-10-31', 'last_modified_date': '2023-10-31', 'last_accessed_date': '2023-10-31'}})"
      ]
     },
     "execution_count": 22,
     "metadata": {},
     "output_type": "execute_result"
    }
   ],
   "source": [
    "index.as_query_engine().query(\"O czym jest ten dokument, opisz go w kilku zdaniach.\")"
   ]
  },
  {
   "cell_type": "code",
   "execution_count": null,
   "metadata": {},
   "outputs": [],
   "source": []
  },
  {
   "cell_type": "markdown",
   "metadata": {},
   "source": [
    "# HF custom LLM"
   ]
  },
  {
   "cell_type": "code",
   "execution_count": 24,
   "metadata": {},
   "outputs": [],
   "source": [
    "from llama_index.llms import HuggingFaceLLM\n",
    "from llama_index.prompts import PromptTemplate\n",
    "\n",
    "system_prompt = \"\"\"<|SYSTEM|>#\n",
    "- Act as a helpfull assistant\n",
    "- Patiently answer every question\"\"\"\n",
    "\n",
    "query_wrapper = PromptTemplate(\"<|USER|>{query_str}<|ASSISTANT|>\")"
   ]
  },
  {
   "cell_type": "code",
   "execution_count": 33,
   "metadata": {},
   "outputs": [
    {
     "ename": "AttributeError",
     "evalue": "'str' object has no attribute 'config'",
     "output_type": "error",
     "traceback": [
      "\u001b[1;31m---------------------------------------------------------------------------\u001b[0m",
      "\u001b[1;31mAttributeError\u001b[0m                            Traceback (most recent call last)",
      "\u001b[1;32md:\\git_projects\\chat-with-documents-quickstart\\prototype.ipynb Cell 20\u001b[0m line \u001b[0;36m3\n\u001b[0;32m      <a href='vscode-notebook-cell:/d%3A/git_projects/chat-with-documents-quickstart/prototype.ipynb#X36sZmlsZQ%3D%3D?line=0'>1</a>\u001b[0m \u001b[39mimport\u001b[39;00m \u001b[39mtorch\u001b[39;00m\n\u001b[1;32m----> <a href='vscode-notebook-cell:/d%3A/git_projects/chat-with-documents-quickstart/prototype.ipynb#X36sZmlsZQ%3D%3D?line=2'>3</a>\u001b[0m llm \u001b[39m=\u001b[39m HuggingFaceLLM(system_prompt\u001b[39m=\u001b[39;49msystem_prompt,\n\u001b[0;32m      <a href='vscode-notebook-cell:/d%3A/git_projects/chat-with-documents-quickstart/prototype.ipynb#X36sZmlsZQ%3D%3D?line=3'>4</a>\u001b[0m                      model\u001b[39m=\u001b[39;49m\u001b[39m\"\u001b[39;49m\u001b[39mmeta-llama/Llama-2-7b-chat-hf\u001b[39;49m\u001b[39m\"\u001b[39;49m,\n\u001b[0;32m      <a href='vscode-notebook-cell:/d%3A/git_projects/chat-with-documents-quickstart/prototype.ipynb#X36sZmlsZQ%3D%3D?line=4'>5</a>\u001b[0m                      tokenizer\u001b[39m=\u001b[39;49m\u001b[39m\"\u001b[39;49m\u001b[39mmeta-llama/Llama-2-7b-chat-hf\u001b[39;49m\u001b[39m\"\u001b[39;49m,\n\u001b[0;32m      <a href='vscode-notebook-cell:/d%3A/git_projects/chat-with-documents-quickstart/prototype.ipynb#X36sZmlsZQ%3D%3D?line=5'>6</a>\u001b[0m                      query_wrapper_prompt\u001b[39m=\u001b[39;49mquery_wrapper,\n\u001b[0;32m      <a href='vscode-notebook-cell:/d%3A/git_projects/chat-with-documents-quickstart/prototype.ipynb#X36sZmlsZQ%3D%3D?line=6'>7</a>\u001b[0m                     \u001b[39m#  model_kwargs={\"torch_dtype\":torch.float16}\u001b[39;49;00m\n\u001b[0;32m      <a href='vscode-notebook-cell:/d%3A/git_projects/chat-with-documents-quickstart/prototype.ipynb#X36sZmlsZQ%3D%3D?line=7'>8</a>\u001b[0m                      )\n",
      "File \u001b[1;32md:\\Anaconda\\envs\\llm\\lib\\site-packages\\llama_index\\llms\\huggingface.py:151\u001b[0m, in \u001b[0;36mHuggingFaceLLM.__init__\u001b[1;34m(self, context_window, max_new_tokens, system_prompt, query_wrapper_prompt, tokenizer_name, model_name, model, tokenizer, device_map, stopping_ids, tokenizer_kwargs, tokenizer_outputs_to_remove, model_kwargs, generate_kwargs, messages_to_prompt, callback_manager)\u001b[0m\n\u001b[0;32m    146\u001b[0m \u001b[39mself\u001b[39m\u001b[39m.\u001b[39m_model \u001b[39m=\u001b[39m model \u001b[39mor\u001b[39;00m AutoModelForCausalLM\u001b[39m.\u001b[39mfrom_pretrained(\n\u001b[0;32m    147\u001b[0m     model_name, device_map\u001b[39m=\u001b[39mdevice_map, \u001b[39m*\u001b[39m\u001b[39m*\u001b[39mmodel_kwargs\n\u001b[0;32m    148\u001b[0m )\n\u001b[0;32m    150\u001b[0m \u001b[39m# check context_window\u001b[39;00m\n\u001b[1;32m--> 151\u001b[0m config_dict \u001b[39m=\u001b[39m \u001b[39mself\u001b[39;49m\u001b[39m.\u001b[39;49m_model\u001b[39m.\u001b[39;49mconfig\u001b[39m.\u001b[39mto_dict()\n\u001b[0;32m    152\u001b[0m model_context_window \u001b[39m=\u001b[39m \u001b[39mint\u001b[39m(\n\u001b[0;32m    153\u001b[0m     config_dict\u001b[39m.\u001b[39mget(\u001b[39m\"\u001b[39m\u001b[39mmax_position_embeddings\u001b[39m\u001b[39m\"\u001b[39m, context_window)\n\u001b[0;32m    154\u001b[0m )\n\u001b[0;32m    155\u001b[0m \u001b[39mif\u001b[39;00m model_context_window \u001b[39mand\u001b[39;00m model_context_window \u001b[39m<\u001b[39m context_window:\n",
      "\u001b[1;31mAttributeError\u001b[0m: 'str' object has no attribute 'config'"
     ]
    }
   ],
   "source": [
    "import torch\n",
    "\n",
    "llm = HuggingFaceLLM(system_prompt=system_prompt,\n",
    "                     model=\"meta-llama/Llama-2-7b-chat-hf\",\n",
    "                     tokenizer=\"meta-llama/Llama-2-7b-chat-hf\",\n",
    "                     query_wrapper_prompt=query_wrapper,\n",
    "                    #  model_kwargs={\"torch_dtype\":torch.float16}\n",
    "                     )"
   ]
  },
  {
   "cell_type": "code",
   "execution_count": null,
   "metadata": {},
   "outputs": [],
   "source": []
  },
  {
   "cell_type": "code",
   "execution_count": null,
   "metadata": {},
   "outputs": [],
   "source": []
  },
  {
   "cell_type": "code",
   "execution_count": null,
   "metadata": {},
   "outputs": [],
   "source": []
  },
  {
   "cell_type": "code",
   "execution_count": null,
   "metadata": {},
   "outputs": [],
   "source": []
  }
 ],
 "metadata": {
  "kernelspec": {
   "display_name": "llm",
   "language": "python",
   "name": "python3"
  },
  "language_info": {
   "codemirror_mode": {
    "name": "ipython",
    "version": 3
   },
   "file_extension": ".py",
   "mimetype": "text/x-python",
   "name": "python",
   "nbconvert_exporter": "python",
   "pygments_lexer": "ipython3",
   "version": "3.10.12"
  }
 },
 "nbformat": 4,
 "nbformat_minor": 2
}
